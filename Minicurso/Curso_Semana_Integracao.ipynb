{
 "cells": [
  {
   "cell_type": "markdown",
   "metadata": {},
   "source": [
    "<div class=\"cite2c-biblio\"></div><div class=\"cite2c-biblio\"></div><div class=\"cite2c-biblio\"></div><div class=\"cite2c-biblio\"></div># Parte 1: Latex/Overleaf"
   ]
  },
  {
   "cell_type": "markdown",
   "metadata": {},
   "source": [
    "## Primeiros Passos\n",
    "   - Latex Offline: https://www.latex-project.org/get/\n",
    " \n",
    "   - Latex Online: https://www.overleaf.com\n",
    "\n",
    "\n"
   ]
  },
  {
   "cell_type": "markdown",
   "metadata": {},
   "source": [
    "## Criar Primeiro Projeto\n",
    "\n",
    "* Templates:\n",
    "    - CoppeTex:\n",
    "        - http://coppetex.sourceforge.net/download.html (site oficial)\n",
    "        - https://www.overleaf.com/latex/templates/coppetex-a-latex-toolkit-for-writing-thesis-and-dissertations/vtfzhxgfhzbv (overleaf)\n",
    "    \n",
    "    \n",
    "    \n",
    "  - SBPO\n",
    "       - http://coppetex.sourceforge.net/download.html (site oficial)\n",
    "       - https://www.overleaf.com/latex/templates/coppetex-a-latex-toolkit-for-writing-thesis-and-dissertations/vtfzhxgfhzbv (overleaf)\n",
    "\n",
    "\n",
    "\n",
    "* Obs: Não Recomendo usar templates com duas colunas por página\n",
    "\n",
    "\n"
   ]
  },
  {
   "cell_type": "markdown",
   "metadata": {},
   "source": [
    "## Fazer Upload do projeto .tex\n",
    "\n",
    "* Fazer Upload do arquivo direto no overleaf"
   ]
  },
  {
   "cell_type": "markdown",
   "metadata": {},
   "source": [
    "## Ferramentas para criação de objetos\n",
    "\n",
    "1. Formula/Matrix generator: https://www.codecogs.com/latex/eqneditor.php?lang=pt-br\n",
    "\n",
    "\n",
    "2. Table: Generator: https://www.tablesgenerator.com/\n",
    "\n",
    "\n",
    "3. Algoritmos: https://tex.stackexchange.com/questions/204592/how-to-format-a-pseudocode-algorithm\n",
    "\n",
    "\n",
    "4. Como posicionar imagens: http://www1.cmc.edu/pages/faculty/aaksoy/latex/latexfive.html"
   ]
  },
  {
   "cell_type": "markdown",
   "metadata": {},
   "source": [
    "## Outros Links\n",
    "\n",
    "Melhor Fonte para duvidas e exemplos:\n",
    "https://tex.stackexchange.com/\n",
    "\n",
    "\n",
    "Curso Latex:\n",
    "https://www.youtube.com/watch?v=SaVO8rrttDY"
   ]
  },
  {
   "cell_type": "markdown",
   "metadata": {},
   "source": [
    "# Parte 2: Jupyter Nb/Python:"
   ]
  },
  {
   "cell_type": "markdown",
   "metadata": {},
   "source": [
    "## Primeiros Passos\n",
    "\n",
    "* Instalar o anaconda: https://www.anaconda.com/distribution/\n",
    "\n",
    "\n",
    "* Criar novo ambiente no anaconda e instalar o Jupyter Nb\n",
    "  - Obs: Tive Problemas pra plotar gráficos com firefox\n",
    "  \n",
    "  \n",
    "* Para verificar versao pelo terminal\n",
    "    - python --version\n",
    "    - Mudar versao: conda install python=3.6.8\n",
    "    \n",
    "\n",
    "* Obs: Diferencas entre pip e conda"
   ]
  },
  {
   "cell_type": "code",
   "execution_count": null,
   "metadata": {
    "ExecuteTime": {
     "end_time": "2019-02-28T04:04:29.657730Z",
     "start_time": "2019-02-28T04:04:29.576251Z"
    },
    "hide_input": false
   },
   "outputs": [],
   "source": [
    "#Verificar versao dentro do notebook\n",
    "import sys\n",
    "sys.version"
   ]
  },
  {
   "cell_type": "markdown",
   "metadata": {},
   "source": [
    "## Instalando Pacotes\n",
    "* conda install seaborn (inclui: pandas, matplotlib...) || https://seaborn.pydata.org/examples/index.html\n",
    "\n",
    "* conda install bokeh (versão 1.0.4) (opcional: bokeh=0.13)|| https://bokeh.pydata.org/en/latest/docs/gallery.html\n",
    "\n",
    "* conda install nbconvert\n",
    "\n",
    "* conda install pandoc\n",
    "\n",
    "* pip install cite2c (apenas pra quem usa zotero)\n",
    "    - python -m cite2c.install\n",
    "\n",
    "* pip install notebooktoall\n"
   ]
  },
  {
   "cell_type": "markdown",
   "metadata": {},
   "source": [
    "## Instalação de Plugins:\n",
    "\n",
    "* Link referencia: http://blog.juliusschulz.de/blog/ultimate-ipython-notebook\n",
    "    - Terminal: conda install -c conda-forge jupyter_contrib_nbextension \n",
    "\n",
    "* Plugins Extras:\n",
    "    - Terminal: conda install -c conda-forge rise\n",
    "\n",
    "\n",
    "* Obs: Incluir arquivo .json na pasta snippets e reiniciar (Navegar pelo menu de plugins e da barra superior)"
   ]
  },
  {
   "cell_type": "markdown",
   "metadata": {},
   "source": [
    "## Snippets"
   ]
  },
  {
   "cell_type": "code",
   "execution_count": 1,
   "metadata": {
    "ExecuteTime": {
     "end_time": "2019-02-28T06:06:10.094447Z",
     "start_time": "2019-02-28T06:06:07.759155Z"
    },
    "init_cell": true
   },
   "outputs": [],
   "source": [
    "# load libraries and set plot parameters\n",
    "import numpy as np\n",
    "import pandas as pd\n",
    "import matplotlib.pyplot as plt\n",
    "%matplotlib inline\n",
    "import seaborn as sns\n",
    "sns.set()\n",
    "plt.rcParams['savefig.dpi'] = 75\n",
    "plt.rcParams['figure.autolayout'] = False\n",
    "plt.rcParams['figure.figsize'] = 10, 6\n",
    "plt.rcParams['axes.labelsize'] = 18\n",
    "plt.rcParams['axes.titlesize'] = 20\n",
    "plt.rcParams['font.size'] = 16\n",
    "plt.rcParams['lines.linewidth'] = 2.0\n",
    "plt.rcParams['lines.markersize'] = 8\n",
    "plt.rcParams['legend.fontsize'] = 14\n",
    "plt.rcParams['text.usetex'] = True #Só funciona com latex instalado na maquina"
   ]
  },
  {
   "cell_type": "markdown",
   "metadata": {
    "ExecuteTime": {
     "end_time": "2019-02-27T23:28:22.631545Z",
     "start_time": "2019-02-27T23:28:22.624525Z"
    }
   },
   "source": [
    "## Criando Objetos com Latex\n",
    "\n",
    "* Equações: \n",
    "\n",
    "\\begin{equation}\n",
    "  e^x = \\sum_{j=0}^{\\infty} \\frac{1}{j!} x^j\n",
    "\\end{equation}"
   ]
  },
  {
   "cell_type": "code",
   "execution_count": null,
   "metadata": {
    "ExecuteTime": {
     "end_time": "2019-02-28T04:39:08.504728Z",
     "start_time": "2019-02-28T04:39:08.494946Z"
    }
   },
   "outputs": [],
   "source": [
    "# Da internet:\n",
    "#<img src=\"http://python.org/images/python-logo.gif\"/>\n",
    "\n",
    "\n",
    "#<video controls src=\"https://www.youtube.com/watch?v=uEEuSYkM9o4&t=4s\" />\n",
    "\n",
    "\n"
   ]
  },
  {
   "cell_type": "markdown",
   "metadata": {
    "ExecuteTime": {
     "end_time": "2019-02-27T23:15:34.763677Z",
     "start_time": "2019-02-27T23:15:34.747888Z"
    }
   },
   "source": [
    "### Criando Gráficos e editando metadados\n",
    "\n",
    "* Menu Superior: Cell>Cell Toolbar>Edit Metadata"
   ]
  },
  {
   "cell_type": "code",
   "execution_count": 2,
   "metadata": {
    "ExecuteTime": {
     "end_time": "2019-02-28T06:06:11.209929Z",
     "start_time": "2019-02-28T06:06:10.099076Z"
    },
    "caption": "somecaption",
    "cell_style": "split",
    "code_folding": [
     0
    ],
    "init_cell": true,
    "latex_doc": {
     "label": "fig:somelabel",
     "widefigure": true
    }
   },
   "outputs": [
    {
     "data": {
      "image/png": "[encoded data removed]",
      "text/plain": [
       "<Figure size 432x288 with 1 Axes>"
      ]
     },
     "metadata": {
      "needs_background": "light"
     },
     "output_type": "display_data"
    }
   ],
   "source": [
    "def sinplot(flip=1):\n",
    "    x = np.linspace(0, 14, 100)\n",
    "    for i in range(1, 7):\n",
    "        plt.plot(x, np.sin(x + i * .5) * (7 - i) * flip)       \n",
    "sinplot()"
   ]
  },
  {
   "cell_type": "code",
   "execution_count": 10,
   "metadata": {
    "ExecuteTime": {
     "end_time": "2019-02-28T05:53:40.650897Z",
     "start_time": "2019-02-28T05:53:07.611678Z"
    },
    "cell_style": "split",
    "code_folding": []
   },
   "outputs": [
    {
     "ename": "RecursionError",
     "evalue": "maximum recursion depth exceeded in comparison",
     "output_type": "error",
     "traceback": [
      "\u001b[0;31m---------------------------------------------------------------------------\u001b[0m",
      "\u001b[0;31mRecursionError\u001b[0m                            Traceback (most recent call last)",
      "\u001b[0;32m<ipython-input-10-caef4db3fe4b>\u001b[0m in \u001b[0;36m<module>\u001b[0;34m\u001b[0m\n\u001b[1;32m      1\u001b[0m \u001b[0msns\u001b[0m\u001b[0;34m.\u001b[0m\u001b[0mset\u001b[0m\u001b[0;34m(\u001b[0m\u001b[0;34m)\u001b[0m\u001b[0;34m\u001b[0m\u001b[0;34m\u001b[0m\u001b[0m\n\u001b[0;32m----> 2\u001b[0;31m \u001b[0msinplot\u001b[0m\u001b[0;34m(\u001b[0m\u001b[0;34m)\u001b[0m\u001b[0;34m\u001b[0m\u001b[0;34m\u001b[0m\u001b[0m\n\u001b[0m",
      "\u001b[0;32m<ipython-input-9-a5e3e8317eb8>\u001b[0m in \u001b[0;36msinplot\u001b[0;34m(flip)\u001b[0m\n\u001b[1;32m      5\u001b[0m \u001b[0;34m\u001b[0m\u001b[0m\n\u001b[1;32m      6\u001b[0m         \u001b[0msns\u001b[0m\u001b[0;34m.\u001b[0m\u001b[0mset\u001b[0m\u001b[0;34m(\u001b[0m\u001b[0;34m)\u001b[0m\u001b[0;34m\u001b[0m\u001b[0;34m\u001b[0m\u001b[0m\n\u001b[0;32m----> 7\u001b[0;31m         \u001b[0msinplot\u001b[0m\u001b[0;34m(\u001b[0m\u001b[0;34m)\u001b[0m\u001b[0;34m\u001b[0m\u001b[0;34m\u001b[0m\u001b[0m\n\u001b[0m",
      "... last 1 frames repeated, from the frame below ...\n",
      "\u001b[0;32m<ipython-input-9-a5e3e8317eb8>\u001b[0m in \u001b[0;36msinplot\u001b[0;34m(flip)\u001b[0m\n\u001b[1;32m      5\u001b[0m \u001b[0;34m\u001b[0m\u001b[0m\n\u001b[1;32m      6\u001b[0m         \u001b[0msns\u001b[0m\u001b[0;34m.\u001b[0m\u001b[0mset\u001b[0m\u001b[0;34m(\u001b[0m\u001b[0;34m)\u001b[0m\u001b[0;34m\u001b[0m\u001b[0;34m\u001b[0m\u001b[0m\n\u001b[0;32m----> 7\u001b[0;31m         \u001b[0msinplot\u001b[0m\u001b[0;34m(\u001b[0m\u001b[0;34m)\u001b[0m\u001b[0;34m\u001b[0m\u001b[0;34m\u001b[0m\u001b[0m\n\u001b[0m",
      "\u001b[0;31mRecursionError\u001b[0m: maximum recursion depth exceeded in comparison"
     ]
    },
    {
     "data": {
      "image/png": "[encoded data removed]",
      "text/plain": [
       "<Figure size 432x288 with 1 Axes>"
      ]
     },
     "metadata": {},
     "output_type": "display_data"
    }
   ],
   "source": [
    "sns.set()\n",
    "sinplot()"
   ]
  },
  {
   "cell_type": "code",
   "execution_count": null,
   "metadata": {
    "ExecuteTime": {
     "end_time": "2019-02-27T23:39:12.405404Z",
     "start_time": "2019-02-27T23:39:12.397310Z"
    }
   },
   "outputs": [],
   "source": [
    "import seaborn as sns\n",
    "sns.__version__"
   ]
  },
  {
   "cell_type": "code",
   "execution_count": null,
   "metadata": {
    "ExecuteTime": {
     "end_time": "2019-02-27T23:43:38.154717Z",
     "start_time": "2019-02-27T23:43:37.843929Z"
    },
    "scrolled": true
   },
   "outputs": [],
   "source": [
    "np.random.seed(0)\n",
    "uniform_data = np.random.rand(10, 12)\n",
    "ax = sns.heatmap(uniform_data,cmap=\"BuPu\")\n",
    "ax.set_xlabel('State')\n",
    "ax.set_ylabel('State')\n",
    "title_policy = ('tttt')\n",
    "plt.title('Transition Matrix - Policy {}: {}'.format(3, 4))\n",
    "plt.tight_layout()"
   ]
  },
  {
   "cell_type": "code",
   "execution_count": null,
   "metadata": {
    "ExecuteTime": {
     "end_time": "2019-02-27T23:28:25.391985Z",
     "start_time": "2019-02-27T23:28:25.387444Z"
    }
   },
   "outputs": [],
   "source": [
    "#Comandos que podem aparacer\n",
    "from __future__ import print_function"
   ]
  },
  {
   "cell_type": "code",
   "execution_count": null,
   "metadata": {
    "ExecuteTime": {
     "end_time": "2019-02-27T23:28:25.404485Z",
     "start_time": "2019-02-27T23:28:25.399271Z"
    }
   },
   "outputs": [],
   "source": []
  },
  {
   "cell_type": "code",
   "execution_count": null,
   "metadata": {
    "ExecuteTime": {
     "end_time": "2019-02-27T23:34:05.792663Z",
     "start_time": "2019-02-27T23:34:05.788518Z"
    }
   },
   "outputs": [],
   "source": []
  },
  {
   "cell_type": "code",
   "execution_count": null,
   "metadata": {
    "ExecuteTime": {
     "end_time": "2019-02-27T23:28:25.453924Z",
     "start_time": "2019-02-27T23:28:25.442622Z"
    }
   },
   "outputs": [],
   "source": []
  },
  {
   "cell_type": "code",
   "execution_count": null,
   "metadata": {
    "ExecuteTime": {
     "end_time": "2019-02-27T23:14:24.123224Z",
     "start_time": "2019-02-27T23:14:24.106518Z"
    }
   },
   "outputs": [],
   "source": []
  },
  {
   "cell_type": "markdown",
   "metadata": {
    "ExecuteTime": {
     "end_time": "2019-02-27T23:28:25.419225Z",
     "start_time": "2019-02-27T23:28:25.409241Z"
    }
   },
   "source": [
    "## Gerando arquivo .md\n",
    "\n",
    "jupyter nbconvert --to markdown Curso_Semana_Integracao.ipynb"
   ]
  },
  {
   "cell_type": "code",
   "execution_count": 11,
   "metadata": {
    "ExecuteTime": {
     "end_time": "2019-02-28T05:57:34.706067Z",
     "start_time": "2019-02-28T05:57:34.209326Z"
    }
   },
   "outputs": [],
   "source": [
    "from notebooktoall.transform import transform_notebook\n",
    "transform_notebook(ipynb_file=\"Curso_Semana_Integracao.ipynb\", export_list=[\"html\", \"py\", \"md\"])"
   ]
  },
  {
   "cell_type": "code",
   "execution_count": 3,
   "metadata": {
    "ExecuteTime": {
     "end_time": "2019-02-28T06:10:18.679071Z",
     "start_time": "2019-02-28T06:10:18.089676Z"
    }
   },
   "outputs": [
    {
     "ename": "NameError",
     "evalue": "name 'get_config' is not defined",
     "output_type": "error",
     "traceback": [
      "\u001b[0;31m---------------------------------------------------------------------------\u001b[0m",
      "\u001b[0;31mNameError\u001b[0m                                 Traceback (most recent call last)",
      "\u001b[0;32m<ipython-input-3-215b7b262122>\u001b[0m in \u001b[0;36m<module>\u001b[0;34m\u001b[0m\n\u001b[0;32m----> 1\u001b[0;31m \u001b[0mc\u001b[0m \u001b[0;34m=\u001b[0m \u001b[0mget_config\u001b[0m\u001b[0;34m(\u001b[0m\u001b[0;34m)\u001b[0m\u001b[0;34m\u001b[0m\u001b[0;34m\u001b[0m\u001b[0m\n\u001b[0m\u001b[1;32m      2\u001b[0m \u001b[0mc\u001b[0m\u001b[0;34m.\u001b[0m\u001b[0mExporter\u001b[0m\u001b[0;34m.\u001b[0m\u001b[0mpreprocessors\u001b[0m \u001b[0;34m=\u001b[0m \u001b[0;34m[\u001b[0m \u001b[0;34m'bibpreprocessor.BibTexPreprocessor'\u001b[0m\u001b[0;34m,\u001b[0m \u001b[0;34m'pymdpreprocessor.PyMarkdownPreprocessor'\u001b[0m \u001b[0;34m]\u001b[0m\u001b[0;34m\u001b[0m\u001b[0;34m\u001b[0m\u001b[0m\n\u001b[1;32m      3\u001b[0m \u001b[0mc\u001b[0m\u001b[0;34m.\u001b[0m\u001b[0mExporter\u001b[0m\u001b[0;34m.\u001b[0m\u001b[0mtemplate_file\u001b[0m \u001b[0;34m=\u001b[0m \u001b[0;34m'revtex_nocode.tplx'\u001b[0m\u001b[0;34m\u001b[0m\u001b[0;34m\u001b[0m\u001b[0m\n",
      "\u001b[0;31mNameError\u001b[0m: name 'get_config' is not defined"
     ]
    }
   ],
   "source": [
    "c = get_config()\n",
    "c.Exporter.preprocessors = [ 'bibpreprocessor.BibTexPreprocessor', 'pymdpreprocessor.PyMarkdownPreprocessor' ]\n",
    "c.Exporter.template_file = 'revtex_nocode.tplx'"
   ]
  },
  {
   "cell_type": "markdown",
   "metadata": {},
   "source": [
    "Outros Links:\n",
    "\n",
    "Outros Recursos Jupyter:\n",
    "https://nbviewer.jupyter.org/github/ipython/ipython/blob/2.x/examples/Notebook/Display%20System.ipynb#LaTeX\n",
    "\n",
    "Bom curso introdutório:\n",
    "https://www.youtube.com/watch?v=uEEuSYkM9o4&list=PLp95aw034Wn_WtEmlepaDrw8FU8R5azcm\n",
    "\n",
    "Material Para Biblioteca Pandas:\n",
    "https://nbviewer.jupyter.org/github/justmarkham/pandas-videos/blob/master/pandas.ipynb#26.-How-do-I-find-and-remove-duplicate-rows-in-pandas%3F-%28video%29\n",
    "\n",
    "Atalhos teclado Jupyter:\n",
    "https://towardsdatascience.com/jupyter-notebook-hints-1f26b08429ad\n",
    "\n",
    "Notebooks Interessantes:\n",
    "https://github.com/jupyter/jupyter/wiki/A-gallery-of-interesting-Jupyter-Notebooks\n",
    "\n",
    "\n",
    "Problemas do Jupyter Notebook:\n",
    "https://towardsdatascience.com/5-reasons-why-jupyter-notebooks-suck-4dc201e27086"
   ]
  },
  {
   "cell_type": "code",
   "execution_count": null,
   "metadata": {},
   "outputs": [],
   "source": []
  }
 ],
 "metadata": {
  "celltoolbar": "Edit Metadata",
  "hide_input": false,
  "kernelspec": {
   "display_name": "Python 3",
   "language": "python",
   "name": "python3"
  },
  "language_info": {
   "codemirror_mode": {
    "name": "ipython",
    "version": 3
   },
   "file_extension": ".py",
   "mimetype": "text/x-python",
   "name": "python",
   "nbconvert_exporter": "python",
   "pygments_lexer": "ipython3",
   "version": "3.6.8"
  },
  "latex_envs": {
   "LaTeX_envs_menu_present": true,
   "autoclose": true,
   "autocomplete": true,
   "bibliofile": "biblio.bib",
   "cite_by": "apalike",
   "current_citInitial": 1,
   "eqLabelWithNumbers": true,
   "eqNumInitial": 1,
   "hotkeys": {
    "equation": "Ctrl-E",
    "itemize": "Ctrl-I"
   },
   "labels_anchors": false,
   "latex_user_defs": false,
   "report_style_numbering": true,
   "user_envs_cfg": true
  },
  "latex_metadata": {
   "affiliation": "Mestrdo PEP - Coppe/UFRJ",
   "author": "Nicholas B. Richers",
   "title": "Minicurso"
  },
  "toc": {
   "base_numbering": 1,
   "nav_menu": {},
   "number_sections": true,
   "sideBar": true,
   "skip_h1_title": false,
   "title_cell": "Table of Contents",
   "title_sidebar": "Contents",
   "toc_cell": false,
   "toc_position": {},
   "toc_section_display": true,
   "toc_window_display": false
  },
  "varInspector": {
   "cols": {
    "lenName": 16,
    "lenType": 16,
    "lenVar": 40
   },
   "kernels_config": {
    "python": {
     "delete_cmd_postfix": "",
     "delete_cmd_prefix": "del ",
     "library": "var_list.py",
     "varRefreshCmd": "print(var_dic_list())"
    },
    "r": {
     "delete_cmd_postfix": ") ",
     "delete_cmd_prefix": "rm(",
     "library": "var_list.r",
     "varRefreshCmd": "cat(var_dic_list()) "
    }
   },
   "position": {
    "height": "386px",
    "left": "945px",
    "right": "20px",
    "top": "168px",
    "width": "429px"
   },
   "types_to_exclude": [
    "module",
    "function",
    "builtin_function_or_method",
    "instance",
    "_Feature"
   ],
   "window_display": false
  }
 },
 "nbformat": 4,
 "nbformat_minor": 2
}
